{
 "cells": [
  {
   "cell_type": "code",
   "execution_count": 1,
   "metadata": {},
   "outputs": [
    {
     "name": "stdout",
     "output_type": "stream",
     "text": [
      "\u001b[34mData\u001b[m\u001b[m         MAAW.py      Script.ipynb \u001b[34msaved_models\u001b[m\u001b[m\r\n",
      "LICENSE      README.md    main.py      \u001b[34mutils\u001b[m\u001b[m\r\n"
     ]
    }
   ],
   "source": [
    "!ls"
   ]
  },
  {
   "cell_type": "code",
   "execution_count": 18,
   "metadata": {},
   "outputs": [
    {
     "name": "stdout",
     "output_type": "stream",
     "text": [
      "=========================== Data Batching ==========================\n",
      "Current Run Time : fmnist10\n",
      "----- Automatic Paramters -----\n",
      "Batch Size :  256\n",
      "Height :  28\n",
      "Width :  28\n",
      "INIT_LEARNING_RATE :  0.001\n",
      "Stage Paramters:  [[1.0, 1.0, 10, 0.88], [1.05, 0.98, 10, 0.89], [1.1, 0.96, 10, 0.89]]\n",
      "-------------------------------\n",
      "2023-01-27 19:02:41.488443: I tensorflow/core/platform/cpu_feature_guard.cc:142] This TensorFlow binary is optimized with oneAPI Deep Neural Network Library (oneDNN) to use the following CPU instructions in performance-critical operations:  AVX2 FMA\n",
      "To enable them in other operations, rebuild TensorFlow with the appropriate compiler flags.\n",
      "=========================== Model Warming UP ==========================\n",
      "=========================== Model Run ==========================\n",
      "========== STAGE 0 ==========\n",
      "****** Current Parameters : alpha = 1.0, beta = 1.0, max_epoch = 10, val_acc_thresh = 0.88 *******\n",
      "Start of epoch 0\n",
      "  0%|                                                                     | 0/3 Traceback (most recent call last):\n",
      "  File \"main.py\", line 77, in <module>\n",
      "    history = train(model,loss_object, train_generator , validation_generator, train_acc_metric, val_acc_metric, epochs = max_epoch,t_steps_per_epoch=auto_t_steps_per_epoch,v_steps_per_epoch=auto_v_steps_per_epoch,val_acc_threshold=val_acc_thresh,INIT_LEARNING_RATE=INIT_LEARNING_RATE)\n",
      "  File \"/Users/debasmitroy/Desktop/DEEP_LEARNING_2022/MAAW/utils/helper.py\", line 89, in train\n",
      "    train_losses = train_data_for_one_epoch(model ,optimizer,loss_object,train_acc_metric, train_data=train,t_steps_per_epoch=t_steps_per_epoch)\n",
      "  File \"/Users/debasmitroy/Desktop/DEEP_LEARNING_2022/MAAW/utils/helper.py\", line 46, in train_data_for_one_epoch\n",
      "    logits, loss_value = run_optimizer(model,optimizer,loss_object, x_batch_train, y_batch_train_1d)\n",
      "  File \"/Users/debasmitroy/Desktop/DEEP_LEARNING_2022/MAAW/utils/helper.py\", line 25, in run_optimizer\n",
      "    w = model.trainable_weights[-2]\n",
      "AttributeError: 'NoneType' object has no attribute 'trainable_weights'\n",
      "  0%|                                                                     | 0/3 \n"
     ]
    }
   ],
   "source": [
    "!python3 main.py --runtimename \"fmnist10\""
   ]
  },
  {
   "cell_type": "code",
   "execution_count": null,
   "metadata": {},
   "outputs": [],
   "source": []
  },
  {
   "cell_type": "code",
   "execution_count": null,
   "metadata": {},
   "outputs": [],
   "source": []
  },
  {
   "cell_type": "code",
   "execution_count": 14,
   "metadata": {},
   "outputs": [
    {
     "name": "stdout",
     "output_type": "stream",
     "text": [
      "False\n"
     ]
    }
   ],
   "source": [
    "s = \"abcdef\"\n",
    "\n",
    "print(s.__contains__(\"dee\"))"
   ]
  },
  {
   "cell_type": "code",
   "execution_count": null,
   "metadata": {},
   "outputs": [],
   "source": []
  }
 ],
 "metadata": {
  "kernelspec": {
   "display_name": "Python 3",
   "language": "python",
   "name": "python3"
  },
  "language_info": {
   "codemirror_mode": {
    "name": "ipython",
    "version": 3
   },
   "file_extension": ".py",
   "mimetype": "text/x-python",
   "name": "python",
   "nbconvert_exporter": "python",
   "pygments_lexer": "ipython3",
   "version": "3.8.3"
  }
 },
 "nbformat": 4,
 "nbformat_minor": 4
}
